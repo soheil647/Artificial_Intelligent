{
 "nbformat": 4,
 "nbformat_minor": 0,
 "metadata": {
  "colab": {
   "name": "Template.ipynb",
   "provenance": [],
   "authorship_tag": "ABX9TyP8Tg0RG6VI4rJzgA8+53DM",
   "include_colab_link": true
  },
  "kernelspec": {
   "name": "python3",
   "language": "python",
   "display_name": "Python 3"
  },
  "pycharm": {
   "stem_cell": {
    "cell_type": "raw",
    "source": [],
    "metadata": {
     "collapsed": false
    }
   }
  }
 },
 "cells": [
  {
   "cell_type": "markdown",
   "metadata": {
    "id": "view-in-github",
    "colab_type": "text"
   },
   "source": [
    "<a href=\"https://colab.research.google.com/github/Ayazdani1997/AI-Spring-99-CA5/blob/master/Template.ipynb\" target=\"_parent\"><img src=\"https://colab.research.google.com/assets/colab-badge.svg\" alt=\"Open In Colab\"/></a>"
   ]
  },
  {
   "cell_type": "code",
   "metadata": {
    "id": "5cMl-n36xKZA",
    "colab_type": "code",
    "colab": {},
    "pycharm": {
     "is_executing": false
    }
   },
   "source": [
    "import torchvision\n",
    "import torch\n",
    "import matplotlib.pyplot as plt\n",
    "from torch.utils.data import Dataset, DataLoader, random_split\n",
    "from torchvision.datasets import ImageFolder\n",
    "from torch.utils.data.sampler import SubsetRandomSampler\n",
    "import torchvision.transforms as transforms\n",
    "import numpy as np\n",
    "import random"
   ],
   "execution_count": 13,
   "outputs": []
  },
  {
   "cell_type": "markdown",
   "metadata": {
    "id": "g7A23D4lUBe5",
    "colab_type": "text"
   },
   "source": [
    "Step 1: Define transform classes, instantiating transform objects and instantiating the dataset."
   ]
  },
  {
   "cell_type": "code",
   "metadata": {
    "id": "biWxYuFZ3GsY",
    "colab_type": "code",
    "colab": {},
    "pycharm": {
     "is_executing": false
    }
   },
   "source": [
    "\n",
    "\n",
    "class CustomToTensor(object):\n",
    "    \"\"\"Convert PIL Images in sample to pytorch Tensors.\"\"\"\n",
    "    \n",
    "    ## the input image must be grayscaled first\n",
    "    def __call__(self, image):\n",
    "        image = np.array(image, dtype=np.float32)\n",
    "        # numpy image: H x W\n",
    "        return torch.from_numpy(image)"
   ],
   "execution_count": 3,
   "outputs": []
  },
  {
   "cell_type": "code",
   "metadata": {
    "id": "NmIqe4Zj55EI",
    "colab_type": "code",
    "colab": {},
    "pycharm": {
     "is_executing": false
    }
   },
   "source": [
    "transform = transforms.Compose([transforms.Grayscale(),\n",
    "                                CustomToTensor()\n",
    "                               ]\n",
    "                              ) ## composes multiple transforms into single one\n",
    "\n",
    "dataset = ImageFolder(\"././categorized_products\" ,transform=transform)"
   ],
   "execution_count": 6,
   "outputs": []
  },
  {
   "cell_type": "markdown",
   "metadata": {
    "id": "10_0X5gv3Gsj",
    "colab_type": "text"
   },
   "source": [
    "Step 2: Split Dataset and Make it Iterable"
   ]
  },
  {
   "cell_type": "code",
   "metadata": {
    "id": "1-NvGD-o3Gsl",
    "colab_type": "code",
    "colab": {},
    "pycharm": {
     "is_executing": false
    }
   },
   "source": [
    "batch_size = 64\n",
    "validation_split = 0.2\n",
    "\n",
    "indices = list(range(len(dataset))) # indices of the dataset\n",
    "\n",
    "# TODO: split the dataset into train and test sets randomly with split of 0.2 and assign their indices in the original set to train_indices and test_indices \n",
    "\n",
    "# Creating PT data samplers and loaders:\n",
    "train_sampler = SubsetRandomSampler(train_indices)\n",
    "test_sampler = SubsetRandomSampler(test_indices)\n",
    "\n",
    "train_loader = torch.utils.data.DataLoader(dataset, batch_size=batch_size, sampler=train_sampler, num_workers=16)\n",
    "test_loader = torch.utils.data.DataLoader(dataset, batch_size=batch_size, sampler=test_sampler, num_workers=16)"
   ],
   "execution_count": 15,
   "outputs": [
    {
     "name": "stdout",
     "text": [
      "29800 7449\n"
     ],
     "output_type": "stream"
    }
   ]
  },
  {
   "cell_type": "code",
   "metadata": {
    "id": "XIAqTVD_RWOW",
    "colab_type": "code",
    "colab": {}
   },
   "source": [
    ""
   ],
   "execution_count": 0,
   "outputs": []
  }
 ]
}