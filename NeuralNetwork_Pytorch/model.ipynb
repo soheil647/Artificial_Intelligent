{
 "cells": [
  {
   "cell_type": "markdown",
   "metadata": {
    "collapsed": true,
    "pycharm": {
     "name": "#%% md\n"
    }
   },
   "source": [
    "<a href=\"https://colab.research.google.com/github/Ayazdani1997/AI-Spring-99-CA5/blob/master/Template.ipynb\" target=\"_parent\"><img src=\"https://colab.research.google.com/assets/colab-badge.svg\" alt=\"Open In Colab\"/></a>"
   ]
  },
  {
   "cell_type": "code",
   "execution_count": 1,
   "metadata": {
    "pycharm": {
     "is_executing": false,
     "name": "#%%\n"
    }
   },
   "outputs": [],
   "source": [
    "import torchvision\n",
    "import torch\n",
    "import matplotlib.pyplot as plt\n",
    "from torch.utils.data import Dataset, DataLoader, random_split\n",
    "from torchvision.datasets import ImageFolder\n",
    "from torch.utils.data.sampler import SubsetRandomSampler\n",
    "import torchvision.transforms as transforms\n",
    "import numpy as np\n",
    "import random\n",
    "\n",
    "\n",
    "import torch.nn as nn\n",
    "import torch.nn.functional as F\n",
    "\n",
    "\n",
    "import time\n",
    "from datetime import timedelta\n",
    "from datetime import datetime"
   ]
  },
  {
   "cell_type": "markdown",
   "metadata": {},
   "source": [
    "Step 1: Define transform classes, instantiating transform objects and instantiating the dataset."
   ]
  },
  {
   "cell_type": "code",
   "execution_count": 2,
   "metadata": {
    "pycharm": {
     "is_executing": false,
     "name": "#%%\n"
    }
   },
   "outputs": [],
   "source": [
    "\n",
    "\n",
    "class CustomToTensor(object):\n",
    "    \"\"\"Convert PIL Images in sample to pytorch Tensors.\"\"\"\n",
    "    \n",
    "    ## the input image must be grayscaled first\n",
    "    def __call__(self, image):\n",
    "        image = np.array(image, dtype=np.float32)\n",
    "        # numpy image: H x W\n",
    "        return torch.from_numpy(image)"
   ]
  },
  {
   "cell_type": "code",
   "execution_count": 3,
   "metadata": {
    "pycharm": {
     "is_executing": false,
     "name": "#%%\n"
    }
   },
   "outputs": [],
   "source": [
    "transform = transforms.Compose([transforms.Grayscale(),\n",
    "                                CustomToTensor()\n",
    "                               ]\n",
    "                              ) ## composes multiple transforms into single one\n",
    "\n",
    "dataset = ImageFolder(\"./categorized_products\" ,transform=transform)"
   ]
  },
  {
   "cell_type": "markdown",
   "metadata": {},
   "source": [
    "Step 2: Split Dataset and Make it Iterable"
   ]
  },
  {
   "cell_type": "code",
   "execution_count": 5,
   "metadata": {
    "pycharm": {
     "is_executing": false,
     "name": "#%%\n"
    }
   },
   "outputs": [
    {
     "name": "stdout",
     "output_type": "stream",
     "text": [
      "37249\n",
      "29800 7449\n"
     ]
    }
   ],
   "source": [
    "batch_size = 128\n",
    "validation_split = 0.2\n",
    "\n",
    "indices = list(range(len(dataset))) # indices of the dataset\n",
    "print(len(indices))\n",
    "\n",
    "# TODO: split the dataset into train and test sets randomly with split of 0.2 and assign their indices in the original set to train_indices and test_indices \n",
    "inds = set(random.sample(list(range(len(indices))), int(validation_split*len(indices))))\n",
    "train_indices = [n for i,n in enumerate(indices) if i not in inds]\n",
    "test_indices = [n for i,n in enumerate(indices) if i in inds]\n",
    "print(len(train_indices), len(test_indices))\n",
    "\n",
    "# Creating PT data samplers and loaders:\n",
    "train_sampler = SubsetRandomSampler(train_indices)\n",
    "test_sampler = SubsetRandomSampler(test_indices)\n",
    "\n",
    "train_loader = torch.utils.data.DataLoader(dataset, batch_size=batch_size, sampler=train_sampler, num_workers=128)\n",
    "test_loader = torch.utils.data.DataLoader(dataset, batch_size=batch_size, sampler=test_sampler, num_workers=128)"
   ]
  },
  {
   "cell_type": "code",
   "execution_count": 6,
   "metadata": {
    "pycharm": {
     "name": "#%%\n"
    }
   },
   "outputs": [
    {
     "name": "stdout",
     "output_type": "stream",
     "text": [
      "['Accessory Gift Set', 'Backpacks', 'Belts', 'Capris', 'Caps', 'Casual Shoes', 'Clutches', 'Cufflinks', 'Deodorant', 'Dresses', 'Dupatta', 'Earrings', 'Flats', 'Flip Flops', 'Formal Shoes', 'Handbags', 'Heels', 'Innerwear Vests', 'Jackets', 'Jeans', 'Kajal and Eyeliner', 'Kurtas', 'Kurtis', 'Leggings', 'Lip Gloss', 'Lipstick', 'Nail Polish', 'Necklace and Chains', 'Night suits', 'Nightdress', 'Pendant', 'Perfume and Body Mist', 'Ring', 'Sandals', 'Sarees', 'Scarves', 'Shirts', 'Shorts', 'Skirts', 'Socks', 'Sports Shoes', 'Sunglasses', 'Sweaters', 'Sweatshirts', 'Ties', 'Tops', 'Track Pants', 'Trousers', 'Tshirts', 'Tunics', 'Wallets', 'Watches']\n"
     ]
    }
   ],
   "source": [
    "classes = dataset.classes\n",
    "print(classes)"
   ]
  },
  {
   "cell_type": "code",
   "execution_count": 7,
   "metadata": {},
   "outputs": [
    {
     "name": "stdout",
     "output_type": "stream",
     "text": [
      "For Train: \n",
      "Accessory Gift Set : 89\n",
      "Backpacks : 551\n",
      "Belts : 654\n",
      "Capris : 138\n",
      "Caps : 223\n",
      "Casual Shoes : 2274\n",
      "Clutches : 234\n",
      "Cufflinks : 87\n",
      "Deodorant : 288\n",
      "Dresses : 361\n",
      "Dupatta : 96\n",
      "Earrings : 340\n",
      "Flats : 412\n",
      "Flip Flops : 746\n",
      "Formal Shoes : 507\n",
      "Handbags : 1412\n",
      "Heels : 1061\n",
      "Innerwear Vests : 201\n",
      "Jackets : 201\n",
      "Jeans : 494\n",
      "Kajal and Eyeliner : 86\n",
      "Kurtas : 1475\n",
      "Kurtis : 173\n",
      "Leggings : 142\n",
      "Lip Gloss : 122\n",
      "Lipstick : 238\n",
      "Nail Polish : 261\n",
      "Necklace and Chains : 131\n",
      "Night suits : 107\n",
      "Nightdress : 153\n",
      "Pendant : 146\n",
      "Perfume and Body Mist : 487\n",
      "Ring : 91\n",
      "Sandals : 716\n",
      "Sarees : 340\n",
      "Scarves : 95\n",
      "Shirts : 2574\n",
      "Shorts : 436\n",
      "Skirts : 103\n",
      "Socks : 537\n",
      "Sports Shoes : 1627\n",
      "Sunglasses : 855\n",
      "Sweaters : 225\n",
      "Sweatshirts : 223\n",
      "Ties : 200\n",
      "Tops : 1427\n",
      "Track Pants : 233\n",
      "Trousers : 421\n",
      "Tshirts : 2839\n",
      "Tunics : 171\n",
      "Wallets : 747\n",
      "Watches : 2050\n"
     ]
    }
   ],
   "source": [
    "def get_number_distribution(loader, classes):\n",
    "  total_category_count = {classes[i] : 0 for i in range(len(classes))}\n",
    "  for _, labels in loader:\n",
    "    for label in labels:\n",
    "      total_category_count[ classes[label] ] += 1\n",
    "  for category in classes:\n",
    "    print('%s : %d' % (category, total_category_count[category]))\n",
    "\n",
    "print(\"For Train: \")\n",
    "get_number_distribution(train_loader, classes)"
   ]
  },
  {
   "cell_type": "code",
   "execution_count": 12,
   "metadata": {},
   "outputs": [
    {
     "name": "stdout",
     "output_type": "stream",
     "text": [
      "For Test: \n",
      "Accessory Gift Set : 22\n",
      "Backpacks : 170\n",
      "Belts : 155\n",
      "Capris : 31\n",
      "Caps : 57\n",
      "Casual Shoes : 573\n",
      "Clutches : 60\n",
      "Cufflinks : 25\n",
      "Deodorant : 63\n",
      "Dresses : 92\n",
      "Dupatta : 20\n",
      "Earrings : 69\n",
      "Flats : 107\n",
      "Flip Flops : 192\n",
      "Formal Shoes : 129\n",
      "Handbags : 349\n",
      "Heels : 271\n",
      "Innerwear Vests : 53\n",
      "Jackets : 47\n",
      "Jeans : 125\n",
      "Kajal and Eyeliner : 24\n",
      "Kurtas : 397\n",
      "Kurtis : 44\n",
      "Leggings : 34\n",
      "Lip Gloss : 27\n",
      "Lipstick : 64\n",
      "Nail Polish : 49\n",
      "Necklace and Chains : 27\n",
      "Night suits : 32\n",
      "Nightdress : 36\n",
      "Pendant : 40\n",
      "Perfume and Body Mist : 125\n",
      "Ring : 26\n",
      "Sandals : 181\n",
      "Sarees : 94\n",
      "Scarves : 20\n",
      "Shirts : 625\n",
      "Shorts : 114\n",
      "Skirts : 32\n",
      "Socks : 148\n",
      "Sports Shoes : 395\n",
      "Sunglasses : 216\n",
      "Sweaters : 61\n",
      "Sweatshirts : 29\n",
      "Ties : 47\n",
      "Tops : 345\n",
      "Track Pants : 64\n",
      "Trousers : 102\n",
      "Tshirts : 669\n",
      "Tunics : 46\n",
      "Wallets : 199\n",
      "Watches : 527\n"
     ]
    }
   ],
   "source": [
    "print(\"For Test: \")\n",
    "get_number_distribution(test_loader, classes)"
   ]
  },
  {
   "cell_type": "code",
   "execution_count": 28,
   "metadata": {},
   "outputs": [
    {
     "data": {
      "image/png": "[encoded data removed]",
      "text/plain": [
       "<Figure size 432x288 with 10 Axes>"
      ]
     },
     "metadata": {
      "needs_background": "light"
     },
     "output_type": "display_data"
    }
   ],
   "source": [
    "def imshow(img_array, labels, classes):\n",
    "    _, axs = plt.subplots(2, 5) \n",
    "    for i in range(2):\n",
    "      for j in range(5):\n",
    "        axs[i][j].imshow(img_array[i * 5 + j], cmap='gray')\n",
    "        axs[i][j].set_title(classes[labels[i * 5 + j]])\n",
    "        axs[i][j].axis('off')\n",
    "    plt.show()\n",
    "\n",
    "data_iter = iter(train_loader)\n",
    "data_iter.next()\n",
    "images, labels = data_iter.next()\n",
    "\n",
    "imshow(images[0:10], labels[0:10], classes)"
   ]
  },
  {
   "cell_type": "code",
   "execution_count": 34,
   "metadata": {},
   "outputs": [
    {
     "name": "stdout",
     "output_type": "stream",
     "text": [
      "64\n",
      "52\n"
     ]
    }
   ],
   "source": [
    "print(len(images))\n",
    "print(len(classes))"
   ]
  },
  {
   "cell_type": "code",
   "execution_count": 8,
   "metadata": {},
   "outputs": [],
   "source": [
    "class Model(nn.Module):\n",
    "    def __init__(self, class_num, act=F.relu):\n",
    "        super(Model, self).__init__()\n",
    "\n",
    "\n",
    "        self.layer1 = nn.Linear(4800, 3000)\n",
    "        self.act1 = act\n",
    "\n",
    "\n",
    "        self.layer2 = nn.Linear(3000, 2000)\n",
    "        self.act2 = act\n",
    "\n",
    "\n",
    "\n",
    "        self.layer3 = nn.Linear(2000, 1000)\n",
    "        self.act3 = act\n",
    "\n",
    "\n",
    "        self.layer4 = nn.Linear(1000, 82)\n",
    "        self.act4 = act\n",
    "\n",
    "        self.layer5 = nn.Linear(82, class_num)\n",
    "\n",
    "    def forward(self, x):\n",
    "\n",
    "        x = x.view(x.size(0), -1)\n",
    "\n",
    "        x = self.layer1(x)\n",
    "        x = self.act1(x)\n",
    "\n",
    "        x = self.layer2(x)\n",
    "        x = self.act2(x)\n",
    "\n",
    "        x = self.layer3(x)\n",
    "        x = self.act3(x)\n",
    "\n",
    "        x = self.layer4(x)\n",
    "        x = self.act4(x)\n",
    "\n",
    "        x = self.layer5(x)\n",
    "        return x"
   ]
  },
  {
   "cell_type": "code",
   "execution_count": 9,
   "metadata": {},
   "outputs": [
    {
     "name": "stdout",
     "output_type": "stream",
     "text": [
      "cuda:0\n"
     ]
    }
   ],
   "source": [
    "device = torch.device(\"cuda:0\" if torch.cuda.is_available() else \"cpu\")\n",
    "print(device)"
   ]
  },
  {
   "cell_type": "code",
   "execution_count": 10,
   "metadata": {},
   "outputs": [],
   "source": [
    "model = Model(len(classes))\n",
    "\n",
    "model = model.to(device)"
   ]
  },
  {
   "cell_type": "code",
   "execution_count": 11,
   "metadata": {},
   "outputs": [],
   "source": [
    "learning_rate = 0.01\n",
    "criterion = nn.CrossEntropyLoss()\n",
    "optimizer = torch.optim.SGD(model.parameters(), lr=learning_rate)"
   ]
  },
  {
   "cell_type": "code",
   "execution_count": 12,
   "metadata": {},
   "outputs": [],
   "source": [
    "def fit(model, train_loader, device, criterion, optimizer, num_epochs=10):\n",
    "\n",
    "  total_time = 0.\n",
    "\n",
    "  for epoch in range(num_epochs):\n",
    "      train_loss = 0.\n",
    "      d1 = datetime.now()\n",
    "      for images, labels in train_loader:\n",
    "          \n",
    "        images = images.to(device)\n",
    "        labels = labels.to(device)\n",
    "\n",
    "        # Clear gradients w.r.t. parameters\n",
    "        optimizer.zero_grad()\n",
    "\n",
    "        # Forward pass to get output/logits\n",
    "        outputs = model(images)\n",
    "\n",
    "        # Calculate Loss: softmax --> cross entropy loss\n",
    "        loss = criterion(outputs, labels)\n",
    "\n",
    "        # Getting gradients w.r.t. parameters\n",
    "        loss.backward()\n",
    "\n",
    "        # Updating parameters\n",
    "        optimizer.step()\n",
    "        train_loss += loss.item()\n",
    "\n",
    "      average_loss = train_loss / len(train_loader)\n",
    "      d2 = datetime.now()\n",
    "      delta = d2 - d1\n",
    "      seconds = float(delta.total_seconds())\n",
    "      total_time += seconds\n",
    "      print('epoch %d, train_loss: %.3f, time elapsed: %s seconds' % (epoch + 1, average_loss, seconds))\n",
    "  print('total training time: %.3f minutes' % (total_time / 60))"
   ]
  },
  {
   "cell_type": "code",
   "execution_count": 13,
   "metadata": {},
   "outputs": [],
   "source": [
    "def test_model_accuracy(model, test_loader):\n",
    "    # Calculate Accuracy         \n",
    "    correct = 0.\n",
    "    total = 0.\n",
    "    # Iterate through test dataset\n",
    "    with torch.no_grad():\n",
    "      for images, labels in test_loader:\n",
    "        outputs = model(images.to(device))\n",
    "        _, predicted = torch.max(outputs.data, 1)\n",
    "        total += labels.size(0)\n",
    "        correct += (predicted.to('cpu') == labels).sum().item()\n",
    "\n",
    "    accuracy = 100 * correct / total\n",
    "    print('Accuracy: {}%'.format(accuracy))"
   ]
  },
  {
   "cell_type": "code",
   "execution_count": 14,
   "metadata": {},
   "outputs": [
    {
     "name": "stdout",
     "output_type": "stream",
     "text": [
      "epoch 1, train_loss: nan, time elapsed: 169.485219 seconds\n",
      "epoch 2, train_loss: nan, time elapsed: 140.159814 seconds\n",
      "epoch 3, train_loss: nan, time elapsed: 16.156987 seconds\n",
      "epoch 4, train_loss: nan, time elapsed: 11.648872 seconds\n",
      "epoch 5, train_loss: nan, time elapsed: 11.772327 seconds\n",
      "epoch 6, train_loss: nan, time elapsed: 33.123875 seconds\n",
      "epoch 7, train_loss: nan, time elapsed: 171.711298 seconds\n",
      "epoch 8, train_loss: nan, time elapsed: 156.019751 seconds\n",
      "epoch 9, train_loss: nan, time elapsed: 11.812109 seconds\n",
      "epoch 10, train_loss: nan, time elapsed: 11.710639 seconds\n",
      "total training time: 12.227 minutes\n"
     ]
    }
   ],
   "source": [
    "fit(model, train_loader, device, criterion, optimizer)"
   ]
  },
  {
   "cell_type": "code",
   "execution_count": null,
   "metadata": {},
   "outputs": [],
   "source": [
    "test_model_accuracy(model, test_loader)"
   ]
  }
 ],
 "metadata": {
  "kernelspec": {
   "display_name": "Python 3",
   "language": "python",
   "name": "python3"
  },
  "language_info": {
   "codemirror_mode": {
    "name": "ipython",
    "version": 3
   },
   "file_extension": ".py",
   "mimetype": "text/x-python",
   "name": "python",
   "nbconvert_exporter": "python",
   "pygments_lexer": "ipython3",
   "version": "3.7.7"
  },
  "pycharm": {
   "stem_cell": {
    "cell_type": "raw",
    "source": [],
    "metadata": {
     "collapsed": false
    }
   }
  }
 },
 "nbformat": 4,
 "nbformat_minor": 1
}