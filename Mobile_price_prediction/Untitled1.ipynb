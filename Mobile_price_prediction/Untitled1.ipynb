{
 "cells": [
  {
   "cell_type": "code",
   "execution_count": 1,
   "metadata": {},
   "outputs": [],
   "source": [
    "import pandas as pd\n",
    "import hazm\n",
    "from sklearn.tree import DecisionTreeRegressor, DecisionTreeClassifier\n",
    "from sklearn.metrics import mean_squared_error, mean_absolute_error\n",
    "from sklearn.model_selection import train_test_split, cross_val_score\n",
    "from sklearn.feature_extraction.text import CountVectorizer\n",
    "import numpy as np\n",
    "import matplotlib.pyplot as plt\n",
    "\n",
    "from sklearn.linear_model import LinearRegression\n",
    "from sklearn.ensemble import RandomForestRegressor, BaggingRegressor, VotingRegressor\n",
    "from sklearn.neighbors import KNeighborsRegressor\n",
    "\n",
    "from tqdm import tqdm\n",
    "import re"
   ]
  },
  {
   "cell_type": "code",
   "execution_count": 2,
   "metadata": {},
   "outputs": [],
   "source": [
    "df = pd.read_csv(\"mobile_phone_dataset.csv\")\n",
    "df = df.loc[:, ~df.columns.str.contains('^Unnamed')]\n",
    "df['brand'] = df.apply(lambda row : row['brand'].split('::')[0], axis = 1) "
   ]
  },
  {
   "cell_type": "code",
   "execution_count": 15,
   "metadata": {},
   "outputs": [
    {
     "name": "stderr",
     "output_type": "stream",
     "text": [
      "100%|██████████| 59189/59189 [00:01<00:00, 36474.57it/s]\n",
      "100%|██████████| 59189/59189 [00:09<00:00, 6054.60it/s]\n"
     ]
    },
    {
     "data": {
      "text/plain": [
       "0        [سلامیه, گوشیه, ۶۳۰۳, سالم, دوتا, خط, کوچیک, ا...\n",
       "1            [درحد, نو, سالم, اصلى, ضربه, مهلت, تست, میدم]\n",
       "2                          [گوشى, تمیز, هفته, کارکرده, آک]\n",
       "3        [گلس, کارت, اپل, ای, دی, لوازم, جانبی, اصلی, م...\n",
       "4               [تمیز, ۱, خط, خش, همراه, گلاس, قاب, محافظ]\n",
       "                               ...                        \n",
       "59184    [گوشی, موبایل, ایفون, ۴s, ۳۲, گیگ, سفید, سالم,...\n",
       "59185    [گوشی, ال, جی, سالم, وبدون, کوچکترین, ایرادوبد...\n",
       "59186          [جعبه, ولوازم, llaاصل, خط, وخش, نشده, سالم]\n",
       "59187    [سالم, تمیز, لوازم, اندروید, ۵, باتری, اورجینا...\n",
       "59188    [فروش, معاوضه, فوری, فوری, سفید, تمیز, همراه, ...\n",
       "Name: preprocessed_descs, Length: 59189, dtype: object"
      ]
     },
     "execution_count": 15,
     "metadata": {},
     "output_type": "execute_result"
    }
   ],
   "source": [
    "stopwords = hazm.utils.stopwords_list()\n",
    "# preprocessing item name \n",
    "def preprocess_name(title_Col):\n",
    "    preprocessed_names = []\n",
    "    tokenizer = hazm.WordTokenizer()\n",
    "    for sentence in tqdm(title_Col.values):\n",
    "        sent = sentence\n",
    "        sent = ' '.join(e.lower().strip() for e in sent.split() if e not in stopwords)\n",
    "        sent = tokenizer.tokenize(sent)\n",
    "        preprocessed_names.append(sent)\n",
    "    return preprocessed_names\n",
    "\n",
    "# preprocessing item description \n",
    "def preprocess_desc(desc_col):\n",
    "    preprocessed_descs = []\n",
    "    tokenizer = hazm.WordTokenizer()\n",
    "    normilizer = hazm.Normalizer()\n",
    "    for sentence in tqdm(desc_col.values):\n",
    "        sent = sentence\n",
    "        sent = sent.replace('/', ' ')\n",
    "        sent = ' '.join(e.lower().strip() for e in sent.split() if e not in stopwords)\n",
    "        sent = sent.replace('.', '')\n",
    "        sent = normilizer.normalize(sent)\n",
    "        sent = tokenizer.tokenize(sent)\n",
    "        preprocessed_descs.append(sent)\n",
    "    return preprocessed_descs\n",
    "\n",
    "df['preprocessed_names'] = preprocess_name(df['title'])\n",
    "df['preprocessed_descs'] = preprocess_desc(df['desc'])\n",
    "df['preprocessed_descs']"
   ]
  },
  {
   "cell_type": "code",
   "execution_count": 26,
   "metadata": {},
   "outputs": [
    {
     "name": "stdout",
     "output_type": "stream",
     "text": [
      "Removed 5888 rows\n"
     ]
    }
   ],
   "source": [
    "print('Removed {} rows' .format(len(df[df.price<=0])))\n",
    "df = df[df.price > 0].reset_index(drop=True)"
   ]
  },
  {
   "cell_type": "code",
   "execution_count": 27,
   "metadata": {},
   "outputs": [
    {
     "name": "stdout",
     "output_type": "stream",
     "text": [
      "DF size: (53301, 6), Train size: (42640, 6), Test size: (10661, 6)\n"
     ]
    }
   ],
   "source": [
    "y_df = np.log1p(df['price'])\n",
    "df.drop(['price'], axis=1, inplace=True)\n",
    "\n",
    "x_train, x_test, y_train, y_test =train_test_split(df, y_df, test_size=0.2, random_state=10)\n",
    "print('DF size: {}, Train size: {}, Test size: {}'.format(df.shape, x_train.shape, x_test.shape))"
   ]
  },
  {
   "cell_type": "code",
   "execution_count": 29,
   "metadata": {},
   "outputs": [],
   "source": [
    "vectorizer = CountVectorizer(lowercase=False, binary=True)\n",
    "train_brand_oneHot = vectorizer.fit_transform(df['brand'].values) \n",
    "cv_brand_oneHot = vectorizer.transform(x_train['brand'].values)\n",
    "test_brand_oneHot = vectorizer.transform(x_test['brand'].values)"
   ]
  }
 ],
 "metadata": {
  "kernelspec": {
   "display_name": "PyCharm (Seperation_Index_German_Traffic)",
   "language": "python",
   "name": "pycharm-24698976"
  },
  "language_info": {
   "codemirror_mode": {
    "name": "ipython",
    "version": 3
   },
   "file_extension": ".py",
   "mimetype": "text/x-python",
   "name": "python",
   "nbconvert_exporter": "python",
   "pygments_lexer": "ipython3",
   "version": "3.6.9"
  }
 },
 "nbformat": 4,
 "nbformat_minor": 2
}
