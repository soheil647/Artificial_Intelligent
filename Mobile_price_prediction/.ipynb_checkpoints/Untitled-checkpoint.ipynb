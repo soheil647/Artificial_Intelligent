{
 "cells": [
  {
   "cell_type": "code",
   "execution_count": 132,
   "metadata": {},
   "outputs": [],
   "source": [
    "import pandas as pd\n",
    "import hazm\n",
    "from sklearn.tree import DecisionTreeRegressor, DecisionTreeClassifier\n",
    "from sklearn.metrics import mean_squared_error, mean_absolute_error\n",
    "from sklearn.model_selection import train_test_split, cross_val_score\n",
    "import numpy as np\n",
    "import matplotlib.pyplot as plt\n",
    "\n",
    "from sklearn.linear_model import LinearRegression\n",
    "from sklearn.ensemble import RandomForestRegressor, BaggingRegressor, VotingRegressor\n",
    "from sklearn.neighbors import KNeighborsRegressor"
   ]
  },
  {
   "cell_type": "markdown",
   "metadata": {},
   "source": [
    "Read DataSet From File"
   ]
  },
  {
   "cell_type": "code",
   "execution_count": 138,
   "metadata": {},
   "outputs": [],
   "source": [
    "df = pd.read_csv(\"mobile_phone_dataset.csv\")\n",
    "# print(df.brand)\n",
    "df = df.loc[:, ~df.columns.str.contains('^Unnamed')]\n",
    "models = df.apply(lambda row : row['brand'].split('::')[1], axis = 1) \n",
    "df['brand'] = df.apply(lambda row : row['brand'].split('::')[0], axis = 1) \n",
    "df = pd.concat([df, pd.get_dummies(df['brand'], prefix='brand', dummy_na=True)], axis=1).drop(['brand', 'brand_nan'], axis=1)\n",
    "df = pd.concat([df, pd.get_dummies(df['city'], prefix='city', dummy_na=True)], axis=1).drop(['city', 'city_nan'], axis=1)\n",
    "# df"
   ]
  },
  {
   "cell_type": "code",
   "execution_count": 139,
   "metadata": {},
   "outputs": [],
   "source": [
    "df['created_at'] = df.apply(lambda row : row['created_at'].split(' ')[0], axis = 1) \n",
    "df = pd.concat([df, pd.get_dummies(df['created_at'], prefix='created_at', dummy_na=True)], axis=1).drop(['created_at', 'created_at_nan'], axis=1)\n",
    "# df"
   ]
  },
  {
   "cell_type": "code",
   "execution_count": 140,
   "metadata": {},
   "outputs": [],
   "source": [
    "normilizer = hazm.Normalizer()\n",
    "df['title'] = df.apply(lambda row : normilizer.normalize(row['title']), axis = 1)\n",
    "df['desc'] = df.apply(lambda row : normilizer.normalize(row['desc']), axis = 1)"
   ]
  },
  {
   "cell_type": "code",
   "execution_count": 141,
   "metadata": {},
   "outputs": [],
   "source": [
    "tokenizer = hazm.WordTokenizer()\n",
    "df['title'] = df.apply(lambda row : tokenizer.tokenize(row['title']), axis = 1) \n",
    "df['desc'] = df.apply(lambda row : tokenizer.tokenize(row['desc']), axis = 1) "
   ]
  },
  {
   "cell_type": "code",
   "execution_count": 142,
   "metadata": {},
   "outputs": [],
   "source": [
    "def stemmer_word(row):\n",
    "    stemmer = hazm.Stemmer()\n",
    "    for i in row:\n",
    "        i = stemmer.stem(i)\n",
    "    return row\n",
    "        \n",
    "\n",
    "df['title'] = df.apply(lambda row: stemmer_word(row['title']), axis = 1) \n",
    "df['desc'] = df.apply(lambda row: stemmer_word(row['desc']), axis = 1) "
   ]
  },
  {
   "cell_type": "code",
   "execution_count": 148,
   "metadata": {},
   "outputs": [
    {
     "name": "stdout",
     "output_type": "stream",
     "text": [
      "                                           title  \\\n",
      "0                                  [نوکیا, ۶۳۰۳]   \n",
      "1                          [ایفون, ٥اس, ٣٢, گیگ]   \n",
      "2                                  [سامسونگ, j۵]   \n",
      "3                      [گرى, ۵s, ایفون, ۳۲, گیگ]   \n",
      "4                         [galaxy, S۵, Gold, آک]   \n",
      "...                                          ...   \n",
      "59184    [گوشی, موبایل, ایفون, (, ۴S, (, ۳۲, GB]   \n",
      "59185  [گوشی, ال, جی, k, ۱۰, تمیزومرتب, خط, وخش]   \n",
      "59186                        [/, ١٦, gig/۵s/گلد]   \n",
      "59187               [گلکسی, galaxy, s۴, i, ۹۵۰۰]   \n",
      "59188               [سونی, Z۲فورجی, سفیدD, ۶۵۰۳]   \n",
      "\n",
      "                                                    desc  image_count  \\\n",
      "0      [سلام, ., یه, گوشیه, ۶۳۰۳, سالم, دوتا, خط, کوچ...            2   \n",
      "1          [درحد, نو, سالم, اصلى, ضربه, مهلت, تست, میدم]            0   \n",
      "2                        [گوشى, تمیز, هفته, کارکرده, آک]            2   \n",
      "3      [گلس, ., کارت, اپل, ای, دی, ., لوازم, جانبی, ا...            3   \n",
      "4             [تمیز, ۱, خط, خش, همراه, گلاس, قاب, محافظ]            2   \n",
      "...                                                  ...          ...   \n",
      "59184  [گوشی, موبایل, ایفون, ۴S, ۳۲, گیگ, سفید, سالم,...            3   \n",
      "59185  [گوشی, ال, جی, سالم, وبدون, کوچکترین, ایرادوبد...            3   \n",
      "59186  [جعبه, ولوازم, LLAاصل/بدون, خط, وخش/باز, نشده/...            2   \n",
      "59187  [سالم, تمیز, لوازم, اندروید, ۵., باتری, اورجین...            2   \n",
      "59188  [فروش, معاوضه, فوری, فوری, سفید, تمیز, همراه, ...            0   \n",
      "\n",
      "         price  brand_Apple  brand_HTC  brand_Huawei  brand_LG  brand_Lenovo  \\\n",
      "0        60000            0          0             0         0             0   \n",
      "1      1150000            1          0             0         0             0   \n",
      "2       590000            0          0             0         0             0   \n",
      "3      1100000            1          0             0         0             0   \n",
      "4       900000            0          0             0         0             0   \n",
      "...        ...          ...        ...           ...       ...           ...   \n",
      "59184   500000            1          0             0         0             0   \n",
      "59185   520000            0          0             0         1             0   \n",
      "59186   720000            1          0             0         0             0   \n",
      "59187   475000            0          0             0         0             0   \n",
      "59188   650000            0          0             0         0             0   \n",
      "\n",
      "       brand_Nokia  ...  city_Shiraz  city_Tabriz  city_Tehran  \\\n",
      "0                1  ...            0            0            0   \n",
      "1                0  ...            0            0            1   \n",
      "2                0  ...            0            0            0   \n",
      "3                0  ...            0            0            0   \n",
      "4                0  ...            0            0            1   \n",
      "...            ...  ...          ...          ...          ...   \n",
      "59184            0  ...            0            0            1   \n",
      "59185            0  ...            0            0            0   \n",
      "59186            0  ...            0            0            1   \n",
      "59187            0  ...            0            0            1   \n",
      "59188            0  ...            0            0            0   \n",
      "\n",
      "       created_at_Friday  created_at_Monday  created_at_Saturday  \\\n",
      "0                      0                  0                    0   \n",
      "1                      0                  0                    0   \n",
      "2                      0                  0                    0   \n",
      "3                      0                  0                    0   \n",
      "4                      1                  0                    0   \n",
      "...                  ...                ...                  ...   \n",
      "59184                  0                  0                    0   \n",
      "59185                  0                  0                    0   \n",
      "59186                  0                  0                    0   \n",
      "59187                  0                  0                    0   \n",
      "59188                  0                  0                    0   \n",
      "\n",
      "       created_at_Sunday  created_at_Thursday  created_at_Tuesday  \\\n",
      "0                      0                    0                   0   \n",
      "1                      0                    0                   0   \n",
      "2                      0                    0                   0   \n",
      "3                      0                    0                   0   \n",
      "4                      0                    0                   0   \n",
      "...                  ...                  ...                 ...   \n",
      "59184                  0                    0                   1   \n",
      "59185                  0                    0                   1   \n",
      "59186                  0                    0                   0   \n",
      "59187                  0                    1                   0   \n",
      "59188                  0                    1                   0   \n",
      "\n",
      "       created_at_Wednesday  \n",
      "0                         1  \n",
      "1                         1  \n",
      "2                         1  \n",
      "3                         1  \n",
      "4                         0  \n",
      "...                     ...  \n",
      "59184                     0  \n",
      "59185                     0  \n",
      "59186                     1  \n",
      "59187                     0  \n",
      "59188                     0  \n",
      "\n",
      "[59189 rows x 29 columns]\n"
     ]
    }
   ],
   "source": [
    "def delete_stop_word(row):\n",
    "    row = [item for item in row if item not in hazm.utils.stopwords_list()]\n",
    "    return row\n",
    "\n",
    "df['title'] = df.apply(lambda row: delete_stop_word(row['title']), axis=1)\n",
    "df['desc'] = df.apply(lambda row: delete_stop_word(row['desc']), axis=1)\n",
    "print(df)"
   ]
  },
  {
   "cell_type": "code",
   "execution_count": null,
   "metadata": {},
   "outputs": [],
   "source": []
  },
  {
   "cell_type": "code",
   "execution_count": 114,
   "metadata": {},
   "outputs": [
    {
     "ename": "TypeError",
     "evalue": "expected str, bytes or os.PathLike object, not Series",
     "output_type": "error",
     "traceback": [
      "\u001b[0;31m---------------------------------------------------------------------------\u001b[0m",
      "\u001b[0;31mTypeError\u001b[0m                                 Traceback (most recent call last)",
      "\u001b[0;32m<ipython-input-114-b4816e811d72>\u001b[0m in \u001b[0;36m<module>\u001b[0;34m\u001b[0m\n\u001b[1;32m      1\u001b[0m \u001b[0mtreebank\u001b[0m \u001b[0;34m=\u001b[0m \u001b[0mhazm\u001b[0m\u001b[0;34m.\u001b[0m\u001b[0mTreebankReader\u001b[0m\u001b[0;34m(\u001b[0m\u001b[0mroot\u001b[0m\u001b[0;34m=\u001b[0m\u001b[0mdf\u001b[0m\u001b[0;34m[\u001b[0m\u001b[0;34m'title'\u001b[0m\u001b[0;34m]\u001b[0m\u001b[0;34m)\u001b[0m\u001b[0;34m\u001b[0m\u001b[0;34m\u001b[0m\u001b[0m\n\u001b[0;32m----> 2\u001b[0;31m \u001b[0mprint\u001b[0m\u001b[0;34m(\u001b[0m\u001b[0mnext\u001b[0m\u001b[0;34m(\u001b[0m\u001b[0mtreebank\u001b[0m\u001b[0;34m.\u001b[0m\u001b[0mtrees\u001b[0m\u001b[0;34m(\u001b[0m\u001b[0;34m)\u001b[0m\u001b[0;34m)\u001b[0m\u001b[0;34m)\u001b[0m\u001b[0;34m\u001b[0m\u001b[0;34m\u001b[0m\u001b[0m\n\u001b[0m",
      "\u001b[0;32m/usr/local/lib/python3.6/dist-packages/hazm/TreebankReader.py\u001b[0m in \u001b[0;36mtrees\u001b[0;34m(self)\u001b[0m\n\u001b[1;32m    141\u001b[0m                         \u001b[0;32mreturn\u001b[0m \u001b[0mtree\u001b[0m\u001b[0;34m\u001b[0m\u001b[0;34m\u001b[0m\u001b[0m\n\u001b[1;32m    142\u001b[0m \u001b[0;34m\u001b[0m\u001b[0m\n\u001b[0;32m--> 143\u001b[0;31m                 \u001b[0;32mfor\u001b[0m \u001b[0mdoc\u001b[0m \u001b[0;32min\u001b[0m \u001b[0mself\u001b[0m\u001b[0;34m.\u001b[0m\u001b[0mdocs\u001b[0m\u001b[0;34m(\u001b[0m\u001b[0;34m)\u001b[0m\u001b[0;34m:\u001b[0m\u001b[0;34m\u001b[0m\u001b[0;34m\u001b[0m\u001b[0m\n\u001b[0m\u001b[1;32m    144\u001b[0m                         \u001b[0;32mfor\u001b[0m \u001b[0mS\u001b[0m \u001b[0;32min\u001b[0m \u001b[0mdoc\u001b[0m\u001b[0;34m.\u001b[0m\u001b[0mgetElementsByTagName\u001b[0m\u001b[0;34m(\u001b[0m\u001b[0;34m'S'\u001b[0m\u001b[0;34m)\u001b[0m\u001b[0;34m:\u001b[0m\u001b[0;34m\u001b[0m\u001b[0;34m\u001b[0m\u001b[0m\n\u001b[1;32m    145\u001b[0m                                 \u001b[0;32myield\u001b[0m \u001b[0mtraverse\u001b[0m\u001b[0;34m(\u001b[0m\u001b[0mS\u001b[0m\u001b[0;34m)\u001b[0m\u001b[0;34m\u001b[0m\u001b[0;34m\u001b[0m\u001b[0m\n",
      "\u001b[0;32m/usr/local/lib/python3.6/dist-packages/hazm/TreebankReader.py\u001b[0m in \u001b[0;36mdocs\u001b[0;34m(self)\u001b[0m\n\u001b[1;32m     65\u001b[0m \u001b[0;34m\u001b[0m\u001b[0m\n\u001b[1;32m     66\u001b[0m         \u001b[0;32mdef\u001b[0m \u001b[0mdocs\u001b[0m\u001b[0;34m(\u001b[0m\u001b[0mself\u001b[0m\u001b[0;34m)\u001b[0m\u001b[0;34m:\u001b[0m\u001b[0;34m\u001b[0m\u001b[0;34m\u001b[0m\u001b[0m\n\u001b[0;32m---> 67\u001b[0;31m                 \u001b[0;32mfor\u001b[0m \u001b[0mroot\u001b[0m\u001b[0;34m,\u001b[0m \u001b[0mdirs\u001b[0m\u001b[0;34m,\u001b[0m \u001b[0mfiles\u001b[0m \u001b[0;32min\u001b[0m \u001b[0mos\u001b[0m\u001b[0;34m.\u001b[0m\u001b[0mwalk\u001b[0m\u001b[0;34m(\u001b[0m\u001b[0mself\u001b[0m\u001b[0;34m.\u001b[0m\u001b[0m_root\u001b[0m\u001b[0;34m)\u001b[0m\u001b[0;34m:\u001b[0m\u001b[0;34m\u001b[0m\u001b[0;34m\u001b[0m\u001b[0m\n\u001b[0m\u001b[1;32m     68\u001b[0m                         \u001b[0;32mfor\u001b[0m \u001b[0mname\u001b[0m \u001b[0;32min\u001b[0m \u001b[0msorted\u001b[0m\u001b[0;34m(\u001b[0m\u001b[0mfiles\u001b[0m\u001b[0;34m)\u001b[0m\u001b[0;34m:\u001b[0m\u001b[0;34m\u001b[0m\u001b[0;34m\u001b[0m\u001b[0m\n\u001b[1;32m     69\u001b[0m                                 \u001b[0;32mtry\u001b[0m\u001b[0;34m:\u001b[0m\u001b[0;34m\u001b[0m\u001b[0;34m\u001b[0m\u001b[0m\n",
      "\u001b[0;32m/usr/lib/python3.6/os.py\u001b[0m in \u001b[0;36mwalk\u001b[0;34m(top, topdown, onerror, followlinks)\u001b[0m\n\u001b[1;32m    333\u001b[0m \u001b[0;34m\u001b[0m\u001b[0m\n\u001b[1;32m    334\u001b[0m     \"\"\"\n\u001b[0;32m--> 335\u001b[0;31m     \u001b[0mtop\u001b[0m \u001b[0;34m=\u001b[0m \u001b[0mfspath\u001b[0m\u001b[0;34m(\u001b[0m\u001b[0mtop\u001b[0m\u001b[0;34m)\u001b[0m\u001b[0;34m\u001b[0m\u001b[0;34m\u001b[0m\u001b[0m\n\u001b[0m\u001b[1;32m    336\u001b[0m     \u001b[0mdirs\u001b[0m \u001b[0;34m=\u001b[0m \u001b[0;34m[\u001b[0m\u001b[0;34m]\u001b[0m\u001b[0;34m\u001b[0m\u001b[0;34m\u001b[0m\u001b[0m\n\u001b[1;32m    337\u001b[0m     \u001b[0mnondirs\u001b[0m \u001b[0;34m=\u001b[0m \u001b[0;34m[\u001b[0m\u001b[0;34m]\u001b[0m\u001b[0;34m\u001b[0m\u001b[0;34m\u001b[0m\u001b[0m\n",
      "\u001b[0;31mTypeError\u001b[0m: expected str, bytes or os.PathLike object, not Series"
     ]
    }
   ],
   "source": [
    "treebank = hazm.TreebankReader(root=df['title'])\n",
    "print(next(treebank.trees()))"
   ]
  },
  {
   "cell_type": "code",
   "execution_count": 29,
   "metadata": {},
   "outputs": [
    {
     "data": {
      "text/plain": [
       "[[('گرى', 'name'),\n",
       "  ('۵s', 'model'),\n",
       "  ('ایفون', 'color'),\n",
       "  ('۳۲', 'Ram'),\n",
       "  ('گیگ', 'desc')]]"
      ]
     },
     "execution_count": 29,
     "metadata": {},
     "output_type": "execute_result"
    }
   ],
   "source": [
    "tagger = hazm.SequenceTagger(patterns=['*', 'u:word-%x[0,0]'])\n",
    "tagger.train([[('نوکیا', 'name'), ('j5, s5, z2, s4, s, 6303, اس۵', 'model'), ('گری, grey, سفید', 'color'),  ('۳۲', 'Ram'), ('بدون خط','desc')]])\n",
    "tagger.tag_sents([df['title'].loc[3]])"
   ]
  },
  {
   "cell_type": "code",
   "execution_count": 98,
   "metadata": {},
   "outputs": [],
   "source": [
    "df = df[df.price != -1]\n",
    "X = df.drop(['price', 'title', 'desc'], axis=1)\n",
    "y = df['price']\n",
    "x_train, x_test, y_train, y_test = train_test_split(X, y, test_size=0.33, random_state=42)\n",
    "regr = VotingRegressor(estimators=[('tree', DecisionTreeRegressor()), ('linear', LinearRegression()), ('forest', RandomForestRegressor(50)), ('knn', KNeighborsRegressor())])\n",
    "regr.fit(x_train, y_train)\n",
    "y_predict_test = regr.predict(x_test)"
   ]
  },
  {
   "cell_type": "code",
   "execution_count": 99,
   "metadata": {},
   "outputs": [
    {
     "name": "stdout",
     "output_type": "stream",
     "text": [
      "Accuracy is :  33.514934618399685 %\n",
      "Mean Absolute Error: 339296.77661740396\n",
      "Mean Squared Error: 202982045140.09222\n",
      "Root Mean Squared Error: 450535.28734172665\n",
      "Score is:  0.31886809034998437\n"
     ]
    }
   ],
   "source": [
    "accuracy = regr.score(x_test, y_test)\n",
    "print('Accuracy is : ', accuracy * 100, '%')\n",
    "print('Mean Absolute Error:', mean_absolute_error(y_test, y_predict_test))\n",
    "print('Mean Squared Error:', mean_squared_error(y_test, y_predict_test))\n",
    "print('Root Mean Squared Error:', np.sqrt(mean_squared_error(y_test, y_predict_test)))\n",
    "\n",
    "scores = cross_val_score(regr, x_test, y_test, cv=5)\n",
    "print('Score is: ', scores.mean())"
   ]
  },
  {
   "cell_type": "code",
   "execution_count": 100,
   "metadata": {},
   "outputs": [
    {
     "data": {
      "image/png": "[encoded data removed]",
      "text/plain": [
       "<Figure size 432x288 with 1 Axes>"
      ]
     },
     "metadata": {
      "needs_background": "light"
     },
     "output_type": "display_data"
    }
   ],
   "source": [
    "plt.figure()\n",
    "predicted, = plt.plot(y_predict_test, label='Predicted')\n",
    "actual, = plt.plot(list(y_test), label='Actual')\n",
    "plt.xlabel('Number')\n",
    "plt.ylabel('Price')\n",
    "plt.title(\"Prediction\")\n",
    "plt.legend([predicted, actual])\n",
    "plt.show()"
   ]
  }
 ],
 "metadata": {
  "kernelspec": {
   "display_name": "PyCharm (Seperation_Index_German_Traffic)",
   "language": "python",
   "name": "pycharm-24698976"
  },
  "language_info": {
   "codemirror_mode": {
    "name": "ipython",
    "version": 3
   },
   "file_extension": ".py",
   "mimetype": "text/x-python",
   "name": "python",
   "nbconvert_exporter": "python",
   "pygments_lexer": "ipython3",
   "version": "3.6.9"
  }
 },
 "nbformat": 4,
 "nbformat_minor": 2
}
